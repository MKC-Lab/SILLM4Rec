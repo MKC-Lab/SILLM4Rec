{
 "cells": [
  {
   "cell_type": "code",
   "execution_count": null,
   "id": "a60887f0-70e2-4d85-bdb1-0e52ca608c1f",
   "metadata": {},
   "outputs": [],
   "source": [
    "import torch\n",
    "\n",
    "# 清理 CUDA 缓存\n",
    "if torch.cuda.is_available():\n",
    "    torch.cuda.empty_cache()"
   ]
  },
  {
   "cell_type": "code",
   "execution_count": null,
   "id": "ac81a999-a7e3-4fd5-9142-d4e9fd756f6f",
   "metadata": {},
   "outputs": [],
   "source": [
    "import json\n",
    "import torch\n",
    "import pandas as pd\n",
    "from datasets import Dataset\n",
    "from unsloth import FastLanguageModel\n",
    "from torch.utils.data import DataLoader, WeightedRandomSampler\n",
    "import numpy as np\n",
    "import re\n",
    "import math"
   ]
  },
  {
   "cell_type": "code",
   "execution_count": null,
   "id": "ed31e8b6-85bb-4dbf-8467-46ef2a40548f",
   "metadata": {},
   "outputs": [],
   "source": [
    "import copy\n",
    "# 加载JSON数据\n",
    "with open(\"/root/autodl-tmp/dataset/new_data/train/dpo_data_with_cot.json\", \"r\") as f:\n",
    "    raw_data = json.load(f)\n",
    "\n",
    "# 修改原始数据解析部分\n",
    "dpo_samples = []\n",
    "for item in raw_data:\n",
    "    dpo_samples.append({\n",
    "        \"prompt\": item[\"input\"],  # 使用拼接后的输入\n",
    "        \"chosen\": f'{item[\"chosen\"]}',\n",
    "        \"rejected\": f'{item[\"rejected\"]}',\n",
    "    })\n",
    "    \n",
    "dataset = Dataset.from_pandas(pd.DataFrame(dpo_samples))\n",
    "dataset = dataset.shuffle(seed=42)"
   ]
  },
  {
   "cell_type": "code",
   "execution_count": null,
   "id": "4468b172-0b9d-45c8-b847-4f3e43ce485d",
   "metadata": {
    "scrolled": true
   },
   "outputs": [],
   "source": [
    "print(len(dpo_samples))\n",
    "# print(dataset[0][\"chosen\"])\n",
    "# print(dataset[0][\"rejected\"])"
   ]
  },
  {
   "cell_type": "code",
   "execution_count": null,
   "id": "ce75793e-0d6b-4d35-b0f1-122459283350",
   "metadata": {},
   "outputs": [],
   "source": [
    "max_seq_length = 5120 # Choose any! We auto support RoPE Scaling internally!\n",
    "dtype = None # None for auto detection. Float16 for Tesla T4, V100, Bfloat16 for Ampere+\n",
    "load_in_4bit = True # Use 4bit quantization to reduce memory usage. Can be False.\n",
    "\n",
    "model, tokenizer = FastLanguageModel.from_pretrained(\n",
    "    model_name = \"/root/autodl-tmp/dataset/new_model/qwen-sft\",\n",
    "    max_seq_length = max_seq_length,\n",
    "    dtype = dtype,\n",
    "    load_in_4bit = load_in_4bit,\n",
    "    # token = \"hf_...\", # use one if using gated models like meta-llama/Llama-2-7b-hf\n",
    ")"
   ]
  },
  {
   "cell_type": "code",
   "execution_count": null,
   "id": "c167f614-8f82-49bc-bbc7-f6a46d8d0bff",
   "metadata": {},
   "outputs": [],
   "source": [
    "model = FastLanguageModel.get_peft_model(\n",
    "    model,\n",
    "    r = 64, # Choose any number > 0 ! Suggested 8, 16, 32, 64, 128\n",
    "    target_modules = [\"q_proj\", \"k_proj\", \"v_proj\", \"o_proj\",\n",
    "                      \"gate_proj\", \"up_proj\", \"down_proj\",],\n",
    "    lora_alpha = 64,\n",
    "    lora_dropout = 0, # Currently only supports dropout = 0\n",
    "    bias = \"none\",    # Currently only supports bias = \"none\"\n",
    "    # [NEW] \"unsloth\" uses 30% less VRAM, fits 2x larger batch sizes!\n",
    "    use_gradient_checkpointing = \"unsloth\", # True or \"unsloth\" for very long context\n",
    "    random_state = 3407,\n",
    "    use_rslora = False,  # We support rank stabilized LoRA\n",
    "    loftq_config = None, # And LoftQ\n",
    ")"
   ]
  },
  {
   "cell_type": "code",
   "execution_count": null,
   "id": "25723675-06a0-4301-8c19-8a5344694aec",
   "metadata": {},
   "outputs": [],
   "source": [
    "from transformers import TrainingArguments\n",
    "from unsloth import is_bfloat16_supported\n",
    "from trl import DPOTrainer\n",
    "        \n",
    "dpo_trainer = DPOTrainer(\n",
    "    model = model,\n",
    "    ref_model = None,\n",
    "    args = TrainingArguments(\n",
    "        per_device_train_batch_size = 2,\n",
    "        gradient_accumulation_steps = 2,\n",
    "        warmup_ratio = 0.1,\n",
    "        num_train_epochs = 3,\n",
    "        learning_rate = 1e-5,\n",
    "        fp16 = not is_bfloat16_supported(),\n",
    "        bf16 = is_bfloat16_supported(),\n",
    "        logging_steps = 5,\n",
    "        lr_scheduler_type = \"cosine\",\n",
    "        optim = \"adamw_8bit\",\n",
    "        seed = 42,\n",
    "        output_dir = \"/root/dpo-outputs\",\n",
    "    ),\n",
    "    beta = 0.2,\n",
    "    train_dataset = dataset,\n",
    "    # eval_dataset = YOUR_DATASET_HERE,\n",
    "    tokenizer = tokenizer,\n",
    "    max_length = 5120,\n",
    "    max_prompt_length = 5120,\n",
    ")\n"
   ]
  },
  {
   "cell_type": "code",
   "execution_count": null,
   "id": "024467ed-7ca7-42f0-b600-989d8bf98774",
   "metadata": {},
   "outputs": [],
   "source": [
    "dpo_trainer.train()"
   ]
  },
  {
   "cell_type": "code",
   "execution_count": null,
   "id": "b9269b34-abf4-4cec-a6b6-a4633d0feabf",
   "metadata": {},
   "outputs": [],
   "source": [
    "new_model_local = \"/root/qwen-dpo\"\n",
    "model.save_pretrained(new_model_local) \n",
    "tokenizer.save_pretrained(new_model_local)\n",
    "model.save_pretrained_merged(\"new_model/qwen-dpo1\", tokenizer, save_method=\"merged_16bit\") "
   ]
  },
  {
   "cell_type": "code",
   "execution_count": null,
   "id": "0e788dbb-9546-4067-8d7d-aa84df8c181d",
   "metadata": {},
   "outputs": [],
   "source": [
    "dpo_trainer"
   ]
  },
  {
   "cell_type": "code",
   "execution_count": null,
   "id": "0759fabe-6426-4d53-8fc8-03faeeb19dc9",
   "metadata": {},
   "outputs": [],
   "source": []
  }
 ],
 "metadata": {
  "kernelspec": {
   "display_name": "Python 3 (ipykernel)",
   "language": "python",
   "name": "python3"
  },
  "language_info": {
   "codemirror_mode": {
    "name": "ipython",
    "version": 3
   },
   "file_extension": ".py",
   "mimetype": "text/x-python",
   "name": "python",
   "nbconvert_exporter": "python",
   "pygments_lexer": "ipython3",
   "version": "3.10.8"
  }
 },
 "nbformat": 4,
 "nbformat_minor": 5
}
