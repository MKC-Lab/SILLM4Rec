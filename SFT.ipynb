{
 "cells": [
  {
   "cell_type": "code",
   "execution_count": null,
   "id": "f6986cae-c650-4158-9ce8-2d68b696490c",
   "metadata": {},
   "outputs": [],
   "source": [
    "import torch\n",
    "\n",
    "# 清理 CUDA 缓存\n",
    "if torch.cuda.is_available():\n",
    "    torch.cuda.empty_cache()"
   ]
  },
  {
   "cell_type": "code",
   "execution_count": null,
   "id": "444741e5-8213-4c34-b3cd-5b95cfa1d191",
   "metadata": {},
   "outputs": [],
   "source": [
    "from unsloth import FastLanguageModel"
   ]
  },
  {
   "cell_type": "code",
   "execution_count": null,
   "id": "8f4c25fe-69f9-43ee-8487-9176efb957fe",
   "metadata": {},
   "outputs": [],
   "source": [
    "max_seq_length = 4096\n",
    "dtype = None\n",
    "load_in_4bit = False"
   ]
  },
  {
   "cell_type": "code",
   "execution_count": null,
   "id": "2522fe08-53e3-47ee-ae40-d7866e3cfec8",
   "metadata": {},
   "outputs": [],
   "source": [
    "# model, tokenizer = FastLanguageModel.from_pretrained(\n",
    "#     model_name = \"/root/autodl-tmp/deepseek-ai/DeepSeek-R1-Distill-Qwen-7B\",\n",
    "#     max_seq_length = max_seq_length,\n",
    "#     dtype = dtype,\n",
    "#     load_in_4bit = load_in_4bit,\n",
    "# )\n",
    "model, tokenizer = FastLanguageModel.from_pretrained(\n",
    "    # model_name = \"/root/autodl-tmp/dataset/model\",\n",
    "    model_name = \"/root/autodl-tmp/dataset/new_model/qwen-mdpo1\",\n",
    "    max_seq_length = max_seq_length,\n",
    "    dtype = dtype,\n",
    "    load_in_4bit = load_in_4bit,\n",
    ")"
   ]
  },
  {
   "cell_type": "code",
   "execution_count": null,
   "id": "63d3b812-4146-43e4-851e-de5f7b9b7930",
   "metadata": {},
   "outputs": [],
   "source": [
    "train_prompt_style = \"\"\"Below is an instruction that describes a task, paired with an input that provides further context. Write a response that appropriately completes the request.\n",
    "\n",
    "### Instruction:\n",
    "{}\n",
    "\n",
    "### Input:\n",
    "{}\n",
    "\n",
    "### Response:\n",
    "{}\n",
    "\"\"\"  # 注意这里使用命名占位符"
   ]
  },
  {
   "cell_type": "code",
   "execution_count": null,
   "id": "77e213ae-87c8-4655-9971-f780bb636a0b",
   "metadata": {},
   "outputs": [],
   "source": [
    "def formatting_prompts_func(examples):\n",
    "    # instructions = examples[\"instruction\"]\n",
    "    instructions = examples[\"instruction\"]\n",
    "    inputs = examples[\"input\"]\n",
    "    outputs = examples[\"output\"]\n",
    "    texts = []\n",
    "    for instruction, input, output in zip(instructions, inputs, outputs):\n",
    "        text = train_prompt_style.format(instruction, input, output) + EOS_TOKEN\n",
    "        texts.append(text)\n",
    "    return {\n",
    "        \"text\": texts,\n",
    "    }"
   ]
  },
  {
   "cell_type": "code",
   "execution_count": null,
   "id": "324dc203-be4b-4f1c-a678-06de6bc893ad",
   "metadata": {},
   "outputs": [],
   "source": [
    "EOS_TOKEN = tokenizer.eos_token\n",
    "tokenizer.eos_token"
   ]
  },
  {
   "cell_type": "code",
   "execution_count": null,
   "id": "6a9aaec1-c53d-4fd2-88a0-5a93341eb7c0",
   "metadata": {},
   "outputs": [],
   "source": [
    "from datasets import load_dataset\n",
    "\n",
    "# 加载数据集（假设是JSONL格式）\n",
    "dataset = load_dataset(\"json\", data_files=\"/root/autodl-tmp/dataset/new_data/train/sft_data_with_cot.json\", split=\"train\")\n",
    "\n",
    "# 应用格式转换函数\n",
    "dataset = dataset.map(\n",
    "    formatting_prompts_func,\n",
    "    batched=True,\n",
    "    remove_columns=dataset.column_names  # 移除原始列\n",
    ")"
   ]
  },
  {
   "cell_type": "code",
   "execution_count": null,
   "id": "496a34e5-5d40-4ce4-90ee-1d59aa28e4f4",
   "metadata": {},
   "outputs": [],
   "source": [
    "dataset[\"text\"][0]"
   ]
  },
  {
   "cell_type": "code",
   "execution_count": null,
   "id": "fbb99da0-4c90-49eb-9c9f-441d18789c24",
   "metadata": {},
   "outputs": [],
   "source": [
    "# 打印数据集中的条目数量\n",
    "print(f\"数据集包含 {dataset.num_rows} 条数据\")"
   ]
  },
  {
   "cell_type": "code",
   "execution_count": null,
   "id": "656d0ec1-06e4-4633-a3eb-3fc231d901ad",
   "metadata": {},
   "outputs": [],
   "source": [
    "model = FastLanguageModel.get_peft_model(\n",
    "    model,\n",
    "    r=32,\n",
    "    target_modules=[\n",
    "        \"q_proj\",\n",
    "        \"k_proj\",\n",
    "        \"v_proj\",\n",
    "        \"o_proj\",\n",
    "        \"gate_proj\",\n",
    "        \"up_proj\",\n",
    "        \"down_proj\",\n",
    "    ],\n",
    "    lora_alpha=32,\n",
    "    lora_dropout=0,\n",
    "    bias=\"none\",\n",
    "    use_gradient_checkpointing=\"unsloth\",  # True or \"unsloth\" for very long\n",
    "    random_state=3407,\n",
    "    use_rslora=False,\n",
    "    loftq_config=None,\n",
    ")"
   ]
  },
  {
   "cell_type": "code",
   "execution_count": null,
   "id": "07b8ab0e-6321-4c53-9b98-9fc670cc4318",
   "metadata": {},
   "outputs": [],
   "source": [
    "from trl import SFTTrainer\n",
    "from transformers import TrainingArguments\n",
    "from unsloth import is_bfloat16_supported"
   ]
  },
  {
   "cell_type": "code",
   "execution_count": null,
   "id": "334f0103-2d16-4e5b-948c-c3cab0cb90ec",
   "metadata": {},
   "outputs": [],
   "source": [
    "# 创建有监督微调对象:\n",
    "trainer = SFTTrainer(\n",
    "    model=model,\n",
    "    tokenizer=tokenizer,\n",
    "    train_dataset=dataset,\n",
    "    dataset_text_field=\"text\",\n",
    "    max_seq_length=max_seq_length,\n",
    "    dataset_num_proc=2,\n",
    "    args=TrainingArguments(\n",
    "        per_device_train_batch_size=2,\n",
    "        gradient_accumulation_steps=2,\n",
    "        # Use num_train_epochs = 1, warmup_ratio for full training runs!\n",
    "        num_train_epochs = 3,\n",
    "        warmup_steps=5,\n",
    "        # max_steps=60,\n",
    "        learning_rate=1e-4,\n",
    "        fp16=not is_bfloat16_supported(),\n",
    "        bf16=is_bfloat16_supported(),\n",
    "        logging_steps=5,\n",
    "        optim=\"adamw_8bit\",\n",
    "        weight_decay=0.01,\n",
    "        lr_scheduler_type=\"cosine\",\n",
    "        seed=3407,\n",
    "        output_dir=\"/root/outputs\",\n",
    "    ),\n",
    ")"
   ]
  },
  {
   "cell_type": "code",
   "execution_count": null,
   "id": "7de0eaea-a2f6-4246-9812-509b4f6fe1ef",
   "metadata": {},
   "outputs": [],
   "source": [
    "trainer_stats = trainer.train()"
   ]
  },
  {
   "cell_type": "code",
   "execution_count": null,
   "id": "3f07b59e-256f-4ede-86e2-4efbfd9bbc86",
   "metadata": {},
   "outputs": [],
   "source": [
    "trainer_stats"
   ]
  },
  {
   "cell_type": "code",
   "execution_count": null,
   "id": "8c109f45-6652-46e4-a004-5a07590ab55e",
   "metadata": {},
   "outputs": [],
   "source": [
    "new_model_local = \"/root/qwen-sft\"\n",
    "model.save_pretrained(new_model_local)\n",
    "tokenizer.save_pretrained(new_model_local)\n",
    "model.save_pretrained_merged(\"new_model/qwen-sft\", tokenizer, save_method=\"merged_16bit\") "
   ]
  },
  {
   "cell_type": "code",
   "execution_count": null,
   "id": "653259fd-9c48-4cb6-b751-1da72a5df86c",
   "metadata": {},
   "outputs": [],
   "source": []
  },
  {
   "cell_type": "code",
   "execution_count": null,
   "id": "5d9d2e64-7a37-476a-a4b9-167f97bb703b",
   "metadata": {},
   "outputs": [],
   "source": []
  }
 ],
 "metadata": {
  "kernelspec": {
   "display_name": "Python 3 (ipykernel)",
   "language": "python",
   "name": "python3"
  },
  "language_info": {
   "codemirror_mode": {
    "name": "ipython",
    "version": 3
   },
   "file_extension": ".py",
   "mimetype": "text/x-python",
   "name": "python",
   "nbconvert_exporter": "python",
   "pygments_lexer": "ipython3",
   "version": "3.10.8"
  }
 },
 "nbformat": 4,
 "nbformat_minor": 5
}
